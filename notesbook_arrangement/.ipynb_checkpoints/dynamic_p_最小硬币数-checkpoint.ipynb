{
 "cells": [
  {
   "cell_type": "markdown",
   "metadata": {},
   "source": [
    "#### 例子\n",
    "硬币类型：[1,5,6,8]\n",
    "和：11\n",
    "用常规的动态规划方法，就是一个二维记忆数组，用来保存每个子问题的最优解。\n",
    "<img src=\"images/coin1.PNG\", width=\"300\">\n",
    "横轴是每一个子sum, 纵轴是每一种硬币类型.\n",
    "\n",
    "从左往右,一行一行遍历. 每一个坐标处的值得意义是: 当前的和, 使用当前看到的硬币类型集合, 组合的最小硬币个数.\n",
    "\n",
    "比如说sum=1, 硬币等于1, 首先要看（sum-当前硬币）这个子问题的解， 假设解是y。那么当前问题的解是：\n",
    "min()\n"
   ]
  },
  {
   "cell_type": "code",
   "execution_count": null,
   "metadata": {
    "collapsed": true
   },
   "outputs": [],
   "source": [
    "\n"
   ]
  },
  {
   "cell_type": "code",
   "execution_count": null,
   "metadata": {
    "collapsed": true
   },
   "outputs": [],
   "source": []
  },
  {
   "cell_type": "code",
   "execution_count": null,
   "metadata": {
    "collapsed": true
   },
   "outputs": [],
   "source": []
  },
  {
   "cell_type": "code",
   "execution_count": null,
   "metadata": {
    "collapsed": true
   },
   "outputs": [],
   "source": []
  },
  {
   "cell_type": "code",
   "execution_count": null,
   "metadata": {
    "collapsed": true
   },
   "outputs": [],
   "source": []
  }
 ],
 "metadata": {
  "kernelspec": {
   "display_name": "Python 2",
   "language": "python",
   "name": "python2"
  },
  "language_info": {
   "codemirror_mode": {
    "name": "ipython",
    "version": 2
   },
   "file_extension": ".py",
   "mimetype": "text/x-python",
   "name": "python",
   "nbconvert_exporter": "python",
   "pygments_lexer": "ipython2",
   "version": "2.7.11"
  }
 },
 "nbformat": 4,
 "nbformat_minor": 0
}
