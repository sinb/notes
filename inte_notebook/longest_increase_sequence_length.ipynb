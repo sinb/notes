{
 "cells": [
  {
   "cell_type": "markdown",
   "metadata": {},
   "source": [
    "## 一个数组中的最长升序列长度\n",
    "common sense:\n",
    "\n",
    "最长升序列长度至少是1. 因为每个单独数字长度就是1.\n",
    "\n",
    "使用一个记忆数组，保存每个位置处，该位置之前的子数组的最长升序列长度.\n",
    "\n",
    "所以初始化的记忆数组是\n",
    "[1, 1, 1, 1, 1....]\n",
    "<img src=\"images/lcs1.PNG\", width=\"300\">\n",
    "<img src=\"images/lcs2.PNG\", width=\"300\">\n",
    "两个指针j, i 从前往后开始扫。\n",
    "i表示子数组的终止，j表示子数组的起始，j始终小于i。\n",
    "状态转移方程是：\n",
    "```\n",
    "if x[j] < x[i]:\n",
    "    length_array[i] = max(length_array[i], length_array[j]+1)\n",
    "```\n",
    "意思是，如果x[j] < x[i]，说明是升序列，但是还得判断一下大小，如果这个升序列长度本来就比较大，就没有必要算另一个+1的长度了。\n",
    "  "
   ]
  },
  {
   "cell_type": "code",
   "execution_count": 1,
   "metadata": {
    "collapsed": false
   },
   "outputs": [
    {
     "name": "stdout",
     "output_type": "stream",
     "text": [
      "[1, 2, 1, 2, 3, 3, 4]\n"
     ]
    }
   ],
   "source": [
    "# -*- coding: utf-8 -*-\n",
    "def longest_increase_seq(x):\n",
    "    if len(x) < 2:\n",
    "        return len(x)\n",
    "    length_array = [1] * len(x)\n",
    "    for i in range(1, len(x)):\n",
    "        #   i 是后一个数字\n",
    "        for j in range(0, i):\n",
    "            if x[j] < x[i]:\n",
    "                length_array[i] = max(length_array[i], length_array[j]+1)\n",
    "    return length_array\n",
    "\n",
    "print longest_increase_seq([3, 4, -1, 0, 6, 2, 3])"
   ]
  },
  {
   "cell_type": "code",
   "execution_count": null,
   "metadata": {
    "collapsed": true
   },
   "outputs": [],
   "source": []
  },
  {
   "cell_type": "code",
   "execution_count": null,
   "metadata": {
    "collapsed": true
   },
   "outputs": [],
   "source": []
  },
  {
   "cell_type": "code",
   "execution_count": null,
   "metadata": {
    "collapsed": true
   },
   "outputs": [],
   "source": []
  },
  {
   "cell_type": "code",
   "execution_count": null,
   "metadata": {
    "collapsed": true
   },
   "outputs": [],
   "source": []
  },
  {
   "cell_type": "code",
   "execution_count": null,
   "metadata": {
    "collapsed": true
   },
   "outputs": [],
   "source": []
  },
  {
   "cell_type": "code",
   "execution_count": null,
   "metadata": {
    "collapsed": true
   },
   "outputs": [],
   "source": []
  },
  {
   "cell_type": "code",
   "execution_count": null,
   "metadata": {
    "collapsed": true
   },
   "outputs": [],
   "source": []
  },
  {
   "cell_type": "code",
   "execution_count": null,
   "metadata": {
    "collapsed": true
   },
   "outputs": [],
   "source": []
  }
 ],
 "metadata": {
  "kernelspec": {
   "display_name": "Python 2",
   "language": "python",
   "name": "python2"
  },
  "language_info": {
   "codemirror_mode": {
    "name": "ipython",
    "version": 2
   },
   "file_extension": ".py",
   "mimetype": "text/x-python",
   "name": "python",
   "nbconvert_exporter": "python",
   "pygments_lexer": "ipython2",
   "version": "2.7.11"
  }
 },
 "nbformat": 4,
 "nbformat_minor": 0
}
