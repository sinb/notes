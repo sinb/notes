{
 "cells": [
  {
   "cell_type": "markdown",
   "metadata": {
    "collapsed": true
   },
   "source": [
    "### 编辑距离 常规做法是用二维数组记录每个字串之间的距离，最后用backtrack找到最短路径上每一步的操作\n",
    "\n",
    "<img src=\"images/edit7.PNG\", width=\"300\"> </img>"
   ]
  },
  {
   "cell_type": "code",
   "execution_count": 4,
   "metadata": {
    "collapsed": false
   },
   "outputs": [
    {
     "name": "stdout",
     "output_type": "stream",
     "text": [
      "edit distance: 2\n",
      "memory matrix:\n",
      "[0, 1, 2, 3, 4, 5, 6, 7]\n",
      "[1, 0, 1, 2, 3, 4, 5, 6]\n",
      "[2, 1, 0, 1, 2, 3, 4, 5]\n",
      "[3, 2, 1, 1, 2, 3, 4, 5]\n",
      "[4, 3, 2, 1, 2, 2, 3, 4]\n",
      "[5, 4, 3, 2, 1, 2, 2, 3]\n",
      "[6, 5, 4, 3, 2, 1, 2, 3]\n",
      "[7, 6, 5, 4, 3, 2, 2, 3]\n",
      "[8, 7, 6, 5, 4, 3, 3, 2]\n",
      "track:\n",
      "['', '', '', '', '', '', '', '']\n",
      "['', 'diag', 'hor', 'hor', 'hor', 'hor', 'hor', 'hor']\n",
      "['', 'ver', 'diag', 'hor', 'hor', 'hor', 'hor', 'hor']\n",
      "['', 'ver', 'ver', 'diag', 'hor', 'hor', 'hor', 'hor']\n",
      "['', 'ver', 'ver', 'diag', 'hor', 'diag', 'hor', 'hor']\n",
      "['', 'ver', 'ver', 'ver', 'diag', 'hor', 'diag', 'hor']\n",
      "['', 'ver', 'ver', 'ver', 'ver', 'diag', 'hor', 'hor']\n",
      "['', 'ver', 'ver', 'ver', 'ver', 'ver', 'diag', 'hor']\n",
      "['', 'ver', 'ver', 'ver', 'ver', 'ver', 'ver', 'diag']\n",
      "['diag', 'diag', 'ver', 'diag', 'diag', 'diag', 'diag', 'diag']\n"
     ]
    }
   ],
   "source": [
    "def edit_distance(a, b):\n",
    "    \"\"\"\n",
    "    D用来保存每一对子串之间得距离\n",
    "    trace用来保存最短路径上每一步所作出的选择\n",
    "    1代表对对角下来的,2代表\n",
    "    \"\"\"\n",
    "    D = []\n",
    "    trace = []\n",
    "    for i in xrange(len(a)+1):\n",
    "        D.append([0] * (len(b)+1))\n",
    "        trace.append([\"\"] * (len(b)+1))\n",
    "\n",
    "    for i in xrange(len(a)+1):\n",
    "        D[i][0] = i\n",
    "    for i in xrange(len(b)+1):\n",
    "        D[0][i] = i\n",
    "        \n",
    "    for i in xrange(1, len(a)+1):\n",
    "        for j in xrange(1, len(b)+1):\n",
    "            dist_hor = D[i][j-1] + 1\n",
    "            dist_ver = D[i-1][j] + 1\n",
    "            if a[i-1] == b[j-1]:\n",
    "                delta = 0\n",
    "            else:\n",
    "                delta = 1\n",
    "            dist_diag = D[i-1][j-1] + delta\n",
    "            dist, tag = min((dist_hor, \"hor\"), (dist_ver, \"ver\"), (dist_diag, \"diag\"), key=lambda x: x[0])\n",
    "            D[i][j] = dist\n",
    "            trace[i][j] = tag\n",
    "            \n",
    "    return D[-1][-1], D, trace\n",
    "\n",
    "def backtrack(trace):\n",
    "    trace_list = []\n",
    "    i, j = len(trace)-1, len(trace[0])-1\n",
    "    while i != 0 and j != 0:\n",
    "        last_tag = trace[i][j]\n",
    "        trace_list.append(last_tag)\n",
    "        if last_tag == \"hor\":\n",
    "            j -= 1\n",
    "        if last_tag == \"diag\":\n",
    "            i -= 1\n",
    "            j -= 1\n",
    "        if last_tag == \"ver\":\n",
    "            i -= 1\n",
    "    return trace_list[::-1]\n",
    "\n",
    "distance, matrix, track = edit_distance(\"GCGTATGC\", \"GCTATAC\")\n",
    "print \"edit distance: %d\" % distance\n",
    "print \"memory matrix:\"\n",
    "for line in matrix:\n",
    "    print line\n",
    "print \"track:\"\n",
    "for line in track:\n",
    "    print line\n",
    "print backtrack(track)"
   ]
  },
  {
   "cell_type": "code",
   "execution_count": null,
   "metadata": {
    "collapsed": true
   },
   "outputs": [],
   "source": []
  },
  {
   "cell_type": "code",
   "execution_count": null,
   "metadata": {
    "collapsed": true
   },
   "outputs": [],
   "source": []
  },
  {
   "cell_type": "code",
   "execution_count": null,
   "metadata": {
    "collapsed": true
   },
   "outputs": [],
   "source": []
  },
  {
   "cell_type": "code",
   "execution_count": null,
   "metadata": {
    "collapsed": true
   },
   "outputs": [],
   "source": []
  }
 ],
 "metadata": {
  "kernelspec": {
   "display_name": "Python 2",
   "language": "python",
   "name": "python2"
  },
  "language_info": {
   "codemirror_mode": {
    "name": "ipython",
    "version": 2
   },
   "file_extension": ".py",
   "mimetype": "text/x-python",
   "name": "python",
   "nbconvert_exporter": "python",
   "pygments_lexer": "ipython2",
   "version": "2.7.6"
  }
 },
 "nbformat": 4,
 "nbformat_minor": 0
}
