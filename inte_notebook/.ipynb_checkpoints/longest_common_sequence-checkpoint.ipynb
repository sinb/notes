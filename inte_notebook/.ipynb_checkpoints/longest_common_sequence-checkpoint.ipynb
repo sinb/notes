{
 "cells": [
  {
   "cell_type": "markdown",
   "metadata": {},
   "source": [
    "## 最长公共子序列和编辑距离很像，以下是它们的区别\n",
    "### 1.\n",
    "一个空串和另一个字符串的编辑距离是另一个字符串的长度，因为只需要在空串口面加上另一个字符串所有的字符就编辑相同了；\n",
    "一个空串和另一个字符串的最长公共子序列总是0，因为空串嘛。\n",
    "这个不同点使得它们用来记忆之前步骤的二维数组初始化方式不同。\n",
    "### 2.\n",
    "状态转移公式略有不同\n",
    "最长公共子序列是，如果当前两个字符相同，那么当前位置的LCS长度就是左上角处的值+1，表示当前字符相同了，那就是在之前计算的LCS长度上加1.\n",
    "写成公式就是：\n",
    "```\n",
    "if x[i] == y[j]:\n",
    "    D[i][j] = D[i-1][j-1] + 1\n",
    "否则，\n",
    "    D[i][j] =max(D[i-1][j], D[i][j-1])， 等于左边位置或者上边位置处较大的那个值\n",
    "```\n",
    "编辑距离的状态转移公式为：\n"
   ]
  },
  {
   "cell_type": "code",
   "execution_count": null,
   "metadata": {
    "collapsed": true
   },
   "outputs": [],
   "source": []
  },
  {
   "cell_type": "code",
   "execution_count": null,
   "metadata": {
    "collapsed": true
   },
   "outputs": [],
   "source": [
    "# -*- coding: utf-8 -*-\n",
    "\"\"\"\n",
    "最长公共子序列\n",
    "abcde\n",
    "azced 答案是3-> acd\n",
    "\"\"\"\n",
    "def longest_common_sequence(x, y):\n",
    "    \"\"\"\n",
    "    利用二位数组记录所有子串间的LCS\n",
    "    :param x:\n",
    "    :param y:\n",
    "    :return:\n",
    "    \"\"\"\n",
    "    D = [] # x竖着写纸上，y横着写纸上，画个坐标图\n",
    "    for i in range(len(x)+1):\n",
    "        D.append([0]*(len(y)+1))\n",
    "    for i in range(1, len(x)+1):\n",
    "        for j in range(1, len(y) + 1):\n",
    "            if x[i-1] == y[j-1]:\n",
    "                D[i][j] = D[i-1][j-1] + 1\n",
    "            else:\n",
    "                D[i][j] = max(D[i-1][j], D[i][j-1])\n",
    "\n",
    "    return D[-1][-1]\n",
    "\n",
    "\n",
    "print longest_common_sequence(\"acbcf\", \"abcdef\")"
   ]
  },
  {
   "cell_type": "code",
   "execution_count": null,
   "metadata": {
    "collapsed": true
   },
   "outputs": [],
   "source": []
  },
  {
   "cell_type": "code",
   "execution_count": null,
   "metadata": {
    "collapsed": true
   },
   "outputs": [],
   "source": []
  }
 ],
 "metadata": {
  "kernelspec": {
   "display_name": "Python 2",
   "language": "python",
   "name": "python2"
  },
  "language_info": {
   "codemirror_mode": {
    "name": "ipython",
    "version": 2
   },
   "file_extension": ".py",
   "mimetype": "text/x-python",
   "name": "python",
   "nbconvert_exporter": "python",
   "pygments_lexer": "ipython2",
   "version": "2.7.11"
  }
 },
 "nbformat": 4,
 "nbformat_minor": 0
}
