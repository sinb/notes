{
 "cells": [
  {
   "cell_type": "markdown",
   "metadata": {},
   "source": [
    "## 堆和堆排序"
   ]
  },
  {
   "cell_type": "code",
   "execution_count": 5,
   "metadata": {
    "collapsed": false
   },
   "outputs": [
    {
     "name": "stdout",
     "output_type": "stream",
     "text": [
      "[-4, 1, 2, 3, 5, 9, 22, 31, 99, 132]\n"
     ]
    }
   ],
   "source": [
    "# -*- coding: utf-8 -*-\n",
    "\"\"\"\n",
    "heapify：调整堆里的某个节点，如果某个节点不满足堆的性质，即：\n",
    "该节点应该大于它的两个子节点，就应该交换，并且交换得是递归的进行，一层层往下。\n",
    "\n",
    "build heap，从一个list来建立heap：\n",
    "根据堆的特点，length / 2 以后的节点都是叶子节点，\n",
    "不需要heapify（因为没有子节点），所以按顺序heapify length / 2 之前的所有节点就行了。\n",
    "\n",
    "heap sort：堆排序，很简单，以从小到大排序来说明。\n",
    "首先构建一个堆， 这样就找到了list中最大的元素， 然后把这个元素与堆的最后一个元素交换，再调整堆。\n",
    "注意这时要调整堆的大小，堆大小减1.\n",
    "\"\"\"\n",
    "\n",
    "def heapify(heap, idx):\n",
    "    left_idx = idx * 2\n",
    "    right_idx = idx * 2 + 1\n",
    "    max_idx = idx\n",
    "    if left_idx < len(heap) and  heap[left_idx] > heap[idx]:\n",
    "        max_idx = left_idx\n",
    "    if right_idx < len(heap) and heap[right_idx] > heap[max_idx]:\n",
    "        max_idx = right_idx\n",
    "\n",
    "    if max_idx != idx:\n",
    "        temp = heap[idx]\n",
    "        heap[idx] = heap[max_idx]\n",
    "        heap[max_idx] = temp\n",
    "        heapify(heap, max_idx)\n",
    "    return heap\n",
    "\n",
    "def build_heap(heap):\n",
    "    l = (len(heap)-1) / 2\n",
    "    # index lager than l is all leaves node which dont need to heapify\n",
    "    for i in range(l, 0, -1):\n",
    "        heapify(heap, i)\n",
    "    return heap\n",
    "\n",
    "def heap_sort(heap):\n",
    "    heap.insert(0, 0)\n",
    "    heap = build_heap(heap)\n",
    "    l = len(heap) - 1\n",
    "    while l >= 1:\n",
    "        temp = heap[1]\n",
    "        heap[1] = heap[l]\n",
    "        heap[l] = temp\n",
    "        # heap[:l] = heapify(heap[:l], 1)\n",
    "        heap[:l] = build_heap(heap[:l])\n",
    "        l -= 1\n",
    "    heap.remove(0)\n",
    "\n",
    "h = [5, 1, 3, 22, 31, 2, 9, 99,132, -4]\n",
    "\n",
    "heap_sort(h)\n",
    "print h"
   ]
  },
  {
   "cell_type": "code",
   "execution_count": null,
   "metadata": {
    "collapsed": true
   },
   "outputs": [],
   "source": []
  },
  {
   "cell_type": "code",
   "execution_count": null,
   "metadata": {
    "collapsed": true
   },
   "outputs": [],
   "source": []
  },
  {
   "cell_type": "code",
   "execution_count": null,
   "metadata": {
    "collapsed": true
   },
   "outputs": [],
   "source": []
  },
  {
   "cell_type": "code",
   "execution_count": null,
   "metadata": {
    "collapsed": true
   },
   "outputs": [],
   "source": []
  },
  {
   "cell_type": "code",
   "execution_count": null,
   "metadata": {
    "collapsed": true
   },
   "outputs": [],
   "source": []
  }
 ],
 "metadata": {
  "kernelspec": {
   "display_name": "Python 2",
   "language": "python",
   "name": "python2"
  },
  "language_info": {
   "codemirror_mode": {
    "name": "ipython",
    "version": 2
   },
   "file_extension": ".py",
   "mimetype": "text/x-python",
   "name": "python",
   "nbconvert_exporter": "python",
   "pygments_lexer": "ipython2",
   "version": "2.7.11"
  }
 },
 "nbformat": 4,
 "nbformat_minor": 0
}
