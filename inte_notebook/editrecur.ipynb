{
 "cells": [
  {
   "cell_type": "code",
   "execution_count": 2,
   "metadata": {
    "collapsed": true
   },
   "outputs": [],
   "source": [
    "# edit distance"
   ]
  },
  {
   "cell_type": "markdown",
   "metadata": {},
   "source": [
    "#### 不用一般解动态规划的方法，用递归的方法\n",
    "从字符串的最后开始看，要求两个串的距离，只需要在它们的字串的距离上，计算最后一个字符的距离\n",
    "<img src=\"images/edit1.PNG\" width=300> \n",
    "只考虑一个字符时，可分为三种情况，类似于DTW里面的坐标图，这个也是个坐标，一个字符只能一个一个移动。\n",
    "<img src=\"images/edit5.PNG\" width=300> \n",
    "<img src=\"images/edit6.PNG\" width=300> \n",
    "<img src=\"images/edit2.PNG\" width=300> \n",
    "<img src=\"images/edit3.PNG\" width=300> \n",
    "如果x和y一样，那么这一步就没有额外距离了，直接是alpha和beta的距离，否则就是alpha和beta的距离加上1，或者另外两个方向的距离，取最小的。\n",
    "<img src=\"images/edit4.PNG\" width=300> \n"
   ]
  },
  {
   "cell_type": "code",
   "execution_count": 1,
   "metadata": {
    "collapsed": false
   },
   "outputs": [
    {
     "name": "stdout",
     "output_type": "stream",
     "text": [
      "1\n"
     ]
    }
   ],
   "source": [
    "# -*- coding: utf-8 -*-\n",
    "def edit_distance(a, b):\n",
    "    \"\"\"\n",
    "    终止条件： 一个空字符串和另一个字符串的距离就是另一个字符串的长度\n",
    "    :param a:\n",
    "    :param b:\n",
    "    :return:\n",
    "    \"\"\"\n",
    "    if len(a) == 0:\n",
    "        return len(b)\n",
    "    if len(b) == 0:\n",
    "        return len(a)\n",
    "\n",
    "    if a[-1] == b[-1]:\n",
    "        delta = 0\n",
    "    else:\n",
    "        delta = 1\n",
    "    return min(\n",
    "        edit_distance(a[:-1], b[:-1]) + delta,\n",
    "        edit_distance(a, b[:-1]) + 1,\n",
    "        edit_distance(a[:-1], b) + 1\n",
    "    )\n",
    "\n",
    "e = edit_distance(\"a\", \"ab\")\n",
    "print e"
   ]
  },
  {
   "cell_type": "code",
   "execution_count": null,
   "metadata": {
    "collapsed": true
   },
   "outputs": [],
   "source": []
  },
  {
   "cell_type": "code",
   "execution_count": null,
   "metadata": {
    "collapsed": true
   },
   "outputs": [],
   "source": []
  },
  {
   "cell_type": "code",
   "execution_count": null,
   "metadata": {
    "collapsed": true
   },
   "outputs": [],
   "source": []
  },
  {
   "cell_type": "code",
   "execution_count": null,
   "metadata": {
    "collapsed": true
   },
   "outputs": [],
   "source": []
  },
  {
   "cell_type": "code",
   "execution_count": null,
   "metadata": {
    "collapsed": true
   },
   "outputs": [],
   "source": []
  },
  {
   "cell_type": "code",
   "execution_count": null,
   "metadata": {
    "collapsed": true
   },
   "outputs": [],
   "source": []
  },
  {
   "cell_type": "code",
   "execution_count": null,
   "metadata": {
    "collapsed": true
   },
   "outputs": [],
   "source": []
  },
  {
   "cell_type": "code",
   "execution_count": null,
   "metadata": {
    "collapsed": true
   },
   "outputs": [],
   "source": []
  },
  {
   "cell_type": "code",
   "execution_count": null,
   "metadata": {
    "collapsed": true
   },
   "outputs": [],
   "source": []
  },
  {
   "cell_type": "code",
   "execution_count": null,
   "metadata": {
    "collapsed": true
   },
   "outputs": [],
   "source": []
  },
  {
   "cell_type": "code",
   "execution_count": null,
   "metadata": {
    "collapsed": true
   },
   "outputs": [],
   "source": []
  },
  {
   "cell_type": "code",
   "execution_count": null,
   "metadata": {
    "collapsed": true
   },
   "outputs": [],
   "source": []
  }
 ],
 "metadata": {
  "kernelspec": {
   "display_name": "Python 2",
   "language": "python",
   "name": "python2"
  },
  "language_info": {
   "codemirror_mode": {
    "name": "ipython",
    "version": 2
   },
   "file_extension": ".py",
   "mimetype": "text/x-python",
   "name": "python",
   "nbconvert_exporter": "python",
   "pygments_lexer": "ipython2",
   "version": "2.7.11"
  }
 },
 "nbformat": 4,
 "nbformat_minor": 0
}
